{
 "cells": [
  {
   "cell_type": "markdown",
   "metadata": {},
   "source": [
    "# Making figures with python"
   ]
  },
  {
   "cell_type": "markdown",
   "metadata": {},
   "source": [
    "In this script I'll go over a template for making figures. The script is laid out in such a way that panels can be developed individually. \n",
    "\n",
    "This notebook has the following components:\n",
    " \n",
    "- <a href='#dataanalysis'>Data analysis</a>\n",
    "- <a href='#singlepanels'>Developing individual panels</a>  \n",
    "- <a href='#assembly'>Figure assembly</a>"
   ]
  },
  {
   "cell_type": "markdown",
   "metadata": {},
   "source": [
    "### Initialize figure size and path"
   ]
  },
  {
   "cell_type": "code",
   "execution_count": 1,
   "metadata": {},
   "outputs": [],
   "source": [
    "import numpy as np\n",
    "import matplotlib.pyplot as plt \n",
    "import pathlib\n",
    "import os \n",
    "import pickle \n",
    "\n",
    "# define path to figure and data folders\n",
    "figs_path = pathlib.Path.cwd().parent.joinpath('figs') \n",
    "data_path = pathlib.Path.cwd().parent.joinpath('data') \n",
    "\n",
    "# set final figure dimensions (in inches)\n",
    "full_width = 6.8\n",
    "half_width = 3.5 \n",
    "fig_height = 2.0\n",
    "\n",
    "# set fraction of final figure for every panel\n",
    "p1_width = 0.4\n",
    "p1_hpad = 0.15\n",
    "p2_width = 0.55"
   ]
  },
  {
   "cell_type": "markdown",
   "metadata": {},
   "source": [
    "<a id='dataanalysis'></a>\n",
    "# Data analysis "
   ]
  },
  {
   "cell_type": "markdown",
   "metadata": {},
   "source": [
    "Here I'll create some sample data to plot. Generally this would happen in a separate script from plotting because we want to be able to execute the plotting very quickly. To demonstrate separation of analysis and plotting I'm saving the data in a data folder. "
   ]
  },
  {
   "cell_type": "markdown",
   "metadata": {},
   "source": [
    "### Create signal"
   ]
  },
  {
   "cell_type": "code",
   "execution_count": 2,
   "metadata": {},
   "outputs": [],
   "source": [
    "time_end = 1\n",
    "samp_freq = 0.001\n",
    "time = np.arange(0,time_end+samp_freq,samp_freq)\n",
    "\n",
    "# set seed to get same set of random numbers\n",
    "np.random.seed(0)\n",
    "\n",
    "freq_min = 1\n",
    "freq_max = 50\n",
    "freq_instances = 10 \n",
    "frequencies = np.array([3, 11, 19, 24, 41])\n",
    "frequency_amplitudes = np.random.rand(freq_instances)\n",
    "\n",
    "signal = np.zeros(len(time)) \n",
    "for freq, amp in zip(frequencies, frequency_amplitudes): \n",
    "    signal = signal + amp*np.sin(2*np.pi*freq*time)     "
   ]
  },
  {
   "cell_type": "markdown",
   "metadata": {},
   "source": [
    "### Frequency analysis of signal"
   ]
  },
  {
   "cell_type": "code",
   "execution_count": 3,
   "metadata": {},
   "outputs": [],
   "source": [
    "tpCount     = len(signal)  \n",
    "fft = np.fft.fft(signal)/len(signal)\n",
    "fft = fft[:int(tpCount/2+1)] \n",
    "values      = np.arange(int(tpCount/2+1))\n",
    "timePeriod  = tpCount/samp_freq\n",
    "k = values \n",
    "fft_amp = np.abs(fft)*2 "
   ]
  },
  {
   "cell_type": "markdown",
   "metadata": {},
   "source": [
    "### Save data"
   ]
  },
  {
   "cell_type": "code",
   "execution_count": 4,
   "metadata": {},
   "outputs": [],
   "source": [
    "data_dict = {'time':time, 'signal':signal,'freq':k,'amp':fft_amp}\n",
    "\n",
    "filename = os.path.join( data_path, 'frequency_analysis_data.pickle') \n",
    "with open(filename, 'wb') as handle:\n",
    "    pickle.dump(data_dict, handle) "
   ]
  },
  {
   "cell_type": "markdown",
   "metadata": {},
   "source": [
    "<a id='singlepanels'></a>\n",
    "# Developing individual panels"
   ]
  },
  {
   "cell_type": "markdown",
   "metadata": {},
   "source": [
    "As mentioned above, I generally do the data analysis in a different script so I've included a block with loading data. "
   ]
  },
  {
   "cell_type": "markdown",
   "metadata": {},
   "source": [
    "### Load data with picke"
   ]
  },
  {
   "cell_type": "code",
   "execution_count": 5,
   "metadata": {},
   "outputs": [],
   "source": [
    "filename = os.path.join( data_path, 'frequency_analysis_data.pickle')\n",
    "with open(filename, 'rb') as handle:\n",
    "    data_dict = pickle.load(handle)\n",
    "\n",
    "time = data_dict.get('time')\n",
    "signal = data_dict.get('signal')\n",
    "k = data_dict.get('freq')\n",
    "fft_amp = data_dict.get('amp')"
   ]
  },
  {
   "cell_type": "markdown",
   "metadata": {},
   "source": [
    "### Develop panel 1 (plot signal)"
   ]
  },
  {
   "cell_type": "code",
   "execution_count": 12,
   "metadata": {},
   "outputs": [
    {
     "data": {
      "image/png": "[encoded data removed]",
      "text/plain": [
       "<Figure size 350x200 with 1 Axes>"
      ]
     },
     "metadata": {
      "needs_background": "light"
     },
     "output_type": "display_data"
    }
   ],
   "source": [
    "def plot_sin( ax_function, x, y):\n",
    "            \n",
    "    ax_function.plot(x, y, label='Signal')\n",
    "    \n",
    "    y_limits = np.array([ np.min(y), np.max(y) ])\n",
    "    ylim_round = np.round(y_limits*1.2,1)\n",
    "    ax_function.set_ylim(ylim_round)\n",
    "    \n",
    "    ytick_limits = np.round(y_limits*1.1)\n",
    "    yticks = np.linspace(ytick_limits[0], ytick_limits[1], 3)\n",
    "    ax_function.set_yticks(yticks)\n",
    "    \n",
    "    spines_toset_invisible = ['top','right']\n",
    "    for spine in spines_toset_invisible:\n",
    "        ax_function.spines[spine].set_visible(False)\n",
    "        \n",
    "    ax_function.set_xlabel('Time (s)')\n",
    "    ax_function.set_ylabel('Voltage (V)')\n",
    "    \n",
    "    ax_function.legend(loc='upper center')\n",
    "          \n",
    "        \n",
    "fig = plt.figure(figsize=(half_width,fig_height),\n",
    "                 dpi = 100)   \n",
    "ax0= plt.axes([0, 0,\n",
    "               p1_width, 1] )  \n",
    "\n",
    "plot_sin( ax0 , time, signal)"
   ]
  },
  {
   "cell_type": "markdown",
   "metadata": {},
   "source": [
    "### Develop panel 2 (plot frequency spectrum)"
   ]
  },
  {
   "cell_type": "code",
   "execution_count": 7,
   "metadata": {},
   "outputs": [
    {
     "data": {
      "image/png": "[encoded data removed]",
      "text/plain": [
       "<Figure size 350x200 with 1 Axes>"
      ]
     },
     "metadata": {
      "needs_background": "light"
     },
     "output_type": "display_data"
    }
   ],
   "source": [
    "def plot_fft( ax_function, x, y):\n",
    "    \n",
    "    next_color = plt.rcParams['axes.prop_cycle'].by_key()['color'][3]\n",
    "    ax_function.plot(x, y, \n",
    "                     label='Frequency',\n",
    "                    linewidth = 1,\n",
    "                    color=next_color)\n",
    "\n",
    "    ax_function.set_xlim([0,50])\n",
    "    \n",
    "    y_limits = np.array([ np.min(y), np.max(y) ])\n",
    "    ylim_round = np.round(y_limits*1.2)\n",
    "    ax_function.set_ylim(ylim_round)\n",
    "    \n",
    "    threshold = 0.1 \n",
    "    bool_above_threshold = y > 0.1\n",
    "    \n",
    "    xticks = x[bool_above_threshold]\n",
    "    ax_function.set_xticks(xticks)\n",
    "        \n",
    "    ytick_limits = np.round(y_limits*1.1)\n",
    "    yticks = np.linspace(ytick_limits[0], ytick_limits[1], 2)\n",
    "    ax_function.set_yticks(yticks)\n",
    "    \n",
    "    spines_toset_invisible = ['top','right']\n",
    "    for spine in spines_toset_invisible:\n",
    "        ax_function.spines[spine].set_visible(False)\n",
    "        \n",
    "    ax_function.set_xlabel('Frequency (Hz)')\n",
    "    ax_function.set_ylabel('Voltage (V)')\n",
    "    \n",
    "    ypeaks = y[bool_above_threshold]\n",
    "    for xpeak, ypeak in zip(xticks,ypeaks): \n",
    "        ax_function.annotate( np.round(ypeak,2), \n",
    "                             [xpeak, ypeak],\n",
    "                            ha='center',va='bottom')\n",
    "        ax_function.scatter(xpeak,ypeak,5,'k')\n",
    "    \n",
    "    ax_function.legend(loc='upper center')\n",
    "         \n",
    "\n",
    "fig = plt.figure(figsize=(half_width,fig_height),\n",
    "                 dpi = 100)  \n",
    "ax0= plt.axes([0, 0,\n",
    "               p2_width, 1] )   \n",
    "\n",
    "plot_fft(ax0, k, fft_amp) "
   ]
  },
  {
   "cell_type": "markdown",
   "metadata": {},
   "source": [
    "<a id='assembly'></a>\n",
    "# Figure assembly"
   ]
  },
  {
   "cell_type": "markdown",
   "metadata": {},
   "source": [
    "### Combine panels into final figure"
   ]
  },
  {
   "cell_type": "code",
   "execution_count": 29,
   "metadata": {},
   "outputs": [
    {
     "data": {
      "image/png": "[encoded data removed]",
      "text/plain": [
       "<Figure size 432x288 with 4 Axes>"
      ]
     },
     "execution_count": 29,
     "metadata": {},
     "output_type": "execute_result"
    },
    {
     "data": {
      "image/png": "[encoded data removed]",
      "text/plain": [
       "<Figure size 175x125 with 2 Axes>"
      ]
     },
     "metadata": {
      "needs_background": "light"
     },
     "output_type": "display_data"
    },
    {
     "data": {
      "image/png": "[encoded data removed]",
      "text/plain": [
       "<Figure size 432x288 with 4 Axes>"
      ]
     },
     "metadata": {
      "needs_background": "light"
     },
     "output_type": "display_data"
    }
   ],
   "source": [
    "p1_width = 0.5\n",
    "p1_hpad = 0.1\n",
    "p2_width = 0.45\n",
    "fig_height = 2.5\n",
    "\n",
    "fig = plt.figure(figsize=(half_width,fig_height),\n",
    "                 dpi = 50)\n",
    "ax0= plt.axes( [0, 0.0,\n",
    "               p1_width, .35] )  \n",
    "ax1= plt.axes( [.5, .7,\n",
    "               .3, .3] )   \n",
    "\n",
    "ax = plt.subplots(2,2)\n",
    "\n",
    "parameter_dict = {'xlim', [0,0.3]}\n",
    "\n",
    "plot_sin(ax0, time, signal, parameter_dict)\n",
    "plot_fft(ax1, k, fft_amp)\n",
    "\n",
    "ax[0]"
   ]
  },
  {
   "cell_type": "markdown",
   "metadata": {},
   "source": [
    "### Save figure"
   ]
  },
  {
   "cell_type": "code",
   "execution_count": 9,
   "metadata": {},
   "outputs": [
    {
     "name": "stdout",
     "output_type": "stream",
     "text": [
      "Saving to: /home/thomas/Projects/scientific_figures/figs/figure_fft.svg \n"
     ]
    }
   ],
   "source": [
    "fig_name = pathlib.Path('figure_fft')\n",
    "\n",
    "def save_fig(fig, figs_dir, fig_name ): \n",
    "    fig_pathname = os.path.join( figs_dir, fig_name )  \n",
    "    \n",
    "    print('Saving to: {}.svg '.format( fig_pathname))  \n",
    "    \n",
    "    fig.savefig( fig_pathname + '.png',\n",
    "            format='png',  transparent= True,\n",
    "            bbox_inches = 'tight', pad_inches = 0,\n",
    "            )   \n",
    "    \n",
    "    fig.savefig( fig_pathname + '.pdf',\n",
    "            format='pdf',  transparent= True,\n",
    "            bbox_inches = 'tight', pad_inches = 0,\n",
    "            )   \n",
    "    \n",
    "    fig.savefig( fig_pathname + '.svg',\n",
    "            format='svg',  transparent= True,\n",
    "            bbox_inches = 'tight', pad_inches = 0,\n",
    "            )   \n",
    "    \n",
    "save_fig(fig, figs_path, fig_name)"
   ]
  },
  {
   "cell_type": "code",
   "execution_count": null,
   "metadata": {},
   "outputs": [],
   "source": []
  }
 ],
 "metadata": {
  "kernelspec": {
   "display_name": "Python 3",
   "language": "python",
   "name": "python3"
  },
  "language_info": {
   "codemirror_mode": {
    "name": "ipython",
    "version": 3
   },
   "file_extension": ".py",
   "mimetype": "text/x-python",
   "name": "python",
   "nbconvert_exporter": "python",
   "pygments_lexer": "ipython3",
   "version": "3.8.2"
  }
 },
 "nbformat": 4,
 "nbformat_minor": 4
}
